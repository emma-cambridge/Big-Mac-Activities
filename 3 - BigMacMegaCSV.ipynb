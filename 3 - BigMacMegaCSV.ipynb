{
 "cells": [
  {
   "attachments": {},
   "cell_type": "markdown",
   "metadata": {},
   "source": [
    "# Big Mac Mega CSV\n",
    "For this part we're going to be working with the *big_mac_source_data_v2.csv*, which is the original dataset. \n",
    "\n",
    "We'll be removing columns and removing rows to make the data more manageable and hone in on what we're looking for.\n",
    "\n",
    "Please note that this compares the data by working with the US dollar at the time of publishing the dataset, not AUD. It's got the local price and dollar exchange.\n",
    "\n",
    "For these activities please look at *08 - Removing and Splitting Dataframes* and onwards."
   ]
  },
  {
   "cell_type": "code",
   "execution_count": 3,
   "metadata": {},
   "outputs": [
    {
     "name": "stdout",
     "output_type": "stream",
     "text": [
      "               name currency_code  local_price    dollar_ex        date\n",
      "0         Argentina           ARS         2.50      1.00000  2000-04-01\n",
      "1         Australia           AUD         2.59      1.68000  2000-04-01\n",
      "2            Brazil           BRL         2.95      1.79000  2000-04-01\n",
      "3            Canada           CAD         2.85      1.47000  2000-04-01\n",
      "4       Switzerland           CHF         5.90      1.70000  2000-04-01\n",
      "...             ...           ...          ...          ...         ...\n",
      "2083        Ukraine           UAH       105.00     36.93145  2023-07-01\n",
      "2084        Uruguay           UYU       259.00     37.76500  2023-07-01\n",
      "2085  United States           USD         5.58      1.00000  2023-07-01\n",
      "2086        Vietnam           VND     74000.00  23687.50000  2023-07-01\n",
      "2087   South Africa           ZAR        49.90     17.78375  2023-07-01\n",
      "\n",
      "[2088 rows x 5 columns]\n"
     ]
    }
   ],
   "source": [
    "import pandas as pd\n",
    "\n",
    "#Read in the big_mac_source_data_v2.csv into a dataframe and show the first five rows of data (using .head())\n",
    "big_mac_source_data_v2 = pd.read_csv('Data/big_mac_source_data_v2.csv')\n",
    "big_mac_source_data_v2.head(5)\n",
    "\n",
    "#Now, remove the iso_a3, GDP_dollar and GDP_local columns\n",
    "big_mac_source_data_v2.drop(columns=['iso_a3', 'GDP_dollar', 'GDP_local'], inplace=True)\n",
    "\n",
    "#Print the dataframe\n",
    "print(big_mac_source_data_v2)\n",
    "\n"
   ]
  },
  {
   "attachments": {},
   "cell_type": "markdown",
   "metadata": {},
   "source": [
    "### Remove Rows\n",
    "Now we want to remove some rows. We want to just focus on data from the start of the 2023-2024 financial year (01-07-2023).\n",
    "\n",
    "There are two options for this:\n",
    "\n",
    "#### Remove Rows by Index\n",
    "We can remove all rows by index by looking at the index and deleting all rows. \n",
    "\n",
    "[Remove Rows By Index](https://scales.arabpsychology.com/stats/how-to-drop-rows-by-index-in-pandas-with-examples/#:~:text=Dropping%20rows%20by%20index%20in,provided%20to%20illustrate%20the%20process)\n",
    "\n",
    "Look through the above to know how to drop rows by index. However, we need to know how to drop a broad range of rows by index. You'll need this code to find the index `df.loc[x:y].index`, which will go in place of `index=[...]` when calling the drop function.\n",
    "\n",
    "#### Remove duplicates in a column\n",
    "We can also remove all duplicates of a column except for the last value, which is probably a little easier. \n",
    "\n",
    "\n",
    "[Remove Duplicates and Keep the Latest](https://scales.arabpsychology.com/stats/how-do-i-drop-duplicate-rows-in-pandas-and-keep-the-latest-one/)\n",
    "\n",
    "You'll want to remove the `sort_values('time')` section, but aside from that it should work if you remember to look at the `name` column as opposed to their example of `item` column. The only issue here is we do end up keeping a couple of countries which stopped reporting data (UAE and Russia). This means you will need to manually remove the first two rows (you can do this by index, look above)."
   ]
  },
  {
   "cell_type": "code",
   "execution_count": null,
   "metadata": {},
   "outputs": [],
   "source": [
    "#Remove the data using either method below. If you want to try both, COMMENT OUT ONE OF THEM AND CLEAR ALL OUTPUTS.\n",
    "big_mac_source_data_v2 = big_mac_source_data_v2.drop_duplicates(['name'], keep='last')\n",
    "big_mac_source_data_v2 = big_mac_source_data_v2.drop(index=[1242, 1861])"
   ]
  },
  {
   "attachments": {},
   "cell_type": "markdown",
   "metadata": {},
   "source": [
    "## Create .csv File\n",
    "Let's finish this off by storing just the 01-07-2023 values into a new .csv file. "
   ]
  },
  {
   "cell_type": "code",
   "execution_count": 2,
   "metadata": {},
   "outputs": [
    {
     "ename": "NameError",
     "evalue": "name 'big_mac_source_data_v2' is not defined",
     "output_type": "error",
     "traceback": [
      "\u001b[31m---------------------------------------------------------------------------\u001b[39m",
      "\u001b[31mNameError\u001b[39m                                 Traceback (most recent call last)",
      "\u001b[36mCell\u001b[39m\u001b[36m \u001b[39m\u001b[32mIn[2]\u001b[39m\u001b[32m, line 2\u001b[39m\n\u001b[32m      1\u001b[39m \u001b[38;5;66;03m#Write updated DataFrame to .csv file 'big_mac_2023.csv'\u001b[39;00m\n\u001b[32m----> \u001b[39m\u001b[32m2\u001b[39m \u001b[43mbig_mac_source_data_v2\u001b[49m.to_csv(\u001b[33m'\u001b[39m\u001b[33mData/big_mac_2023.csv\u001b[39m\u001b[33m'\u001b[39m)\n\u001b[32m      3\u001b[39m \u001b[38;5;66;03m#This doesn't work, come back later\u001b[39;00m\n",
      "\u001b[31mNameError\u001b[39m: name 'big_mac_source_data_v2' is not defined"
     ]
    }
   ],
   "source": [
    "#Write updated DataFrame to .csv file 'big_mac_2023.csv'\n",
    "big_mac_source_data_v2.to_csv('Data/big_mac_2023.csv')\n",
    "#This doesn't work, come back later"
   ]
  }
 ],
 "metadata": {
  "kernelspec": {
   "display_name": "Python 3",
   "language": "python",
   "name": "python3"
  },
  "language_info": {
   "codemirror_mode": {
    "name": "ipython",
    "version": 3
   },
   "file_extension": ".py",
   "mimetype": "text/x-python",
   "name": "python",
   "nbconvert_exporter": "python",
   "pygments_lexer": "ipython3",
   "version": "3.11.9"
  }
 },
 "nbformat": 4,
 "nbformat_minor": 2
}
